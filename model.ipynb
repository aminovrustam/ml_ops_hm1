{
 "cells": [
  {
   "cell_type": "markdown",
   "id": "ab7f9cb3",
   "metadata": {},
   "source": [
    "# Загрузка библиотек"
   ]
  },
  {
   "cell_type": "code",
   "execution_count": 1,
   "id": "b3c2129f",
   "metadata": {},
   "outputs": [],
   "source": [
    "import pandas as pd\n",
    "\n",
    "import numpy as np\n",
    "\n",
    "from catboost import CatBoostClassifier\n",
    "\n",
    "import sys\n",
    "import os\n",
    "sys.path.append(os.path.abspath('./src'))\n",
    "from preprocessing import load_train_data, run_preproc, load_train_data_with_enc\n",
    "from scorer import make_pred, get_feature_import"
   ]
  },
  {
   "cell_type": "code",
   "execution_count": 2,
   "id": "30ee94e0",
   "metadata": {},
   "outputs": [],
   "source": [
    "test = pd.read_csv('./input/test.csv')"
   ]
  },
  {
   "cell_type": "code",
   "execution_count": 3,
   "id": "52c188a4",
   "metadata": {},
   "outputs": [
    {
     "data": {
      "text/html": [
       "<div>\n",
       "<style scoped>\n",
       "    .dataframe tbody tr th:only-of-type {\n",
       "        vertical-align: middle;\n",
       "    }\n",
       "\n",
       "    .dataframe tbody tr th {\n",
       "        vertical-align: top;\n",
       "    }\n",
       "\n",
       "    .dataframe thead th {\n",
       "        text-align: right;\n",
       "    }\n",
       "</style>\n",
       "<table border=\"1\" class=\"dataframe\">\n",
       "  <thead>\n",
       "    <tr style=\"text-align: right;\">\n",
       "      <th></th>\n",
       "      <th>transaction_time</th>\n",
       "      <th>merch</th>\n",
       "      <th>cat_id</th>\n",
       "      <th>amount</th>\n",
       "      <th>name_1</th>\n",
       "      <th>name_2</th>\n",
       "      <th>gender</th>\n",
       "      <th>street</th>\n",
       "      <th>one_city</th>\n",
       "      <th>us_state</th>\n",
       "      <th>post_code</th>\n",
       "      <th>lat</th>\n",
       "      <th>lon</th>\n",
       "      <th>population_city</th>\n",
       "      <th>jobs</th>\n",
       "      <th>merchant_lat</th>\n",
       "      <th>merchant_lon</th>\n",
       "    </tr>\n",
       "  </thead>\n",
       "  <tbody>\n",
       "    <tr>\n",
       "      <th>0</th>\n",
       "      <td>2019-09-14 02:46</td>\n",
       "      <td>fraud_Stokes, Christiansen and Sipes</td>\n",
       "      <td>grocery_net</td>\n",
       "      <td>25.79</td>\n",
       "      <td>Michael</td>\n",
       "      <td>Rodriguez</td>\n",
       "      <td>M</td>\n",
       "      <td>172 Paula Inlet Apt. 650</td>\n",
       "      <td>Cross Plains</td>\n",
       "      <td>TX</td>\n",
       "      <td>76443</td>\n",
       "      <td>32.1482</td>\n",
       "      <td>-99.1872</td>\n",
       "      <td>1897</td>\n",
       "      <td>Chief Operating Officer</td>\n",
       "      <td>31.772057</td>\n",
       "      <td>-99.103183</td>\n",
       "    </tr>\n",
       "  </tbody>\n",
       "</table>\n",
       "</div>"
      ],
      "text/plain": [
       "   transaction_time                                 merch       cat_id  \\\n",
       "0  2019-09-14 02:46  fraud_Stokes, Christiansen and Sipes  grocery_net   \n",
       "\n",
       "   amount   name_1     name_2 gender                    street      one_city  \\\n",
       "0   25.79  Michael  Rodriguez      M  172 Paula Inlet Apt. 650  Cross Plains   \n",
       "\n",
       "  us_state  post_code      lat      lon  population_city  \\\n",
       "0       TX      76443  32.1482 -99.1872             1897   \n",
       "\n",
       "                      jobs  merchant_lat  merchant_lon  \n",
       "0  Chief Operating Officer     31.772057    -99.103183  "
      ]
     },
     "execution_count": 3,
     "metadata": {},
     "output_type": "execute_result"
    }
   ],
   "source": [
    "test.head(1)"
   ]
  },
  {
   "cell_type": "code",
   "execution_count": 4,
   "id": "17266dd6",
   "metadata": {},
   "outputs": [],
   "source": [
    "train, enc = load_train_data_with_enc()"
   ]
  },
  {
   "cell_type": "code",
   "execution_count": 5,
   "id": "ebc7e76d",
   "metadata": {},
   "outputs": [],
   "source": [
    "from category_encoders.cat_boost import CatBoostEncoder\n",
    "import category_encoders as ce\n",
    "cbe_encoder = ce.cat_boost.CatBoostEncoder()\n",
    "cat_col = list(train.select_dtypes([object]).columns)\n",
    "train_cbe = cbe_encoder.fit_transform(train[cat_col], train['target']) \n"
   ]
  },
  {
   "cell_type": "code",
   "execution_count": 6,
   "id": "025730d3",
   "metadata": {},
   "outputs": [],
   "source": [
    "for col in cat_col:\n",
    "    train[col]=train_cbe[col]"
   ]
  },
  {
   "cell_type": "code",
   "execution_count": 7,
   "id": "81e5bb6f",
   "metadata": {},
   "outputs": [],
   "source": [
    "dt = run_preproc(train, test, enc)"
   ]
  },
  {
   "cell_type": "code",
   "execution_count": 8,
   "id": "4f40e146",
   "metadata": {},
   "outputs": [
    {
     "data": {
      "text/plain": [
       "((262144, 42), (786431, 43))"
      ]
     },
     "execution_count": 8,
     "metadata": {},
     "output_type": "execute_result"
    }
   ],
   "source": [
    "dt.shape, train.shape"
   ]
  },
  {
   "cell_type": "markdown",
   "id": "ee002a8f",
   "metadata": {},
   "source": [
    "# Обучение модели"
   ]
  },
  {
   "cell_type": "code",
   "execution_count": 9,
   "id": "59b298b2",
   "metadata": {},
   "outputs": [],
   "source": [
    "from sklearn.model_selection import train_test_split"
   ]
  },
  {
   "cell_type": "code",
   "execution_count": 10,
   "id": "6de623e0",
   "metadata": {},
   "outputs": [],
   "source": [
    "X_train, X_test, y_train, y_test = train_test_split(\n",
    "    train.drop(columns='target'), train['target'], test_size=0.2, random_state=42,\n",
    "    stratify=train['target']\n",
    ")"
   ]
  },
  {
   "cell_type": "code",
   "execution_count": 11,
   "id": "2c573f4a",
   "metadata": {},
   "outputs": [
    {
     "name": "stdout",
     "output_type": "stream",
     "text": [
      "0:\tlearn: 0.4463679\ttest: 0.4464409\tbest: 0.4464409 (0)\ttotal: 140ms\tremaining: 2m 19s\n",
      "250:\tlearn: 0.0074452\ttest: 0.0098141\tbest: 0.0098141 (250)\ttotal: 11.1s\tremaining: 33s\n",
      "500:\tlearn: 0.0055361\ttest: 0.0094115\tbest: 0.0094112 (499)\ttotal: 21.5s\tremaining: 21.4s\n",
      "750:\tlearn: 0.0041572\ttest: 0.0093446\tbest: 0.0093165 (596)\ttotal: 31.8s\tremaining: 10.6s\n",
      "999:\tlearn: 0.0031863\ttest: 0.0094155\tbest: 0.0093165 (596)\ttotal: 42.2s\tremaining: 0us\n",
      "\n",
      "bestTest = 0.009316465037\n",
      "bestIteration = 596\n",
      "\n",
      "Shrink model to first 597 iterations.\n"
     ]
    },
    {
     "data": {
      "text/plain": [
       "<catboost.core.CatBoostClassifier at 0x782913530050>"
      ]
     },
     "execution_count": 11,
     "metadata": {},
     "output_type": "execute_result"
    }
   ],
   "source": [
    "model = CatBoostClassifier(iterations=1000, learning_rate=0.1, depth=6, random_state=14, custom_metric='F1', l2_leaf_reg=0.1, verbose=250)\n",
    "\n",
    "model.fit(X_train, y_train, eval_set=(X_test, y_test))"
   ]
  },
  {
   "cell_type": "code",
   "execution_count": 12,
   "id": "c08e5db1",
   "metadata": {},
   "outputs": [
    {
     "data": {
      "text/plain": [
       "{'learn': {'F1': 0.9257992565055762, 'Logloss': 0.003186320576473112},\n",
       " 'validation': {'F1': 0.7363184079601991, 'Logloss': 0.009316465037138904}}"
      ]
     },
     "execution_count": 12,
     "metadata": {},
     "output_type": "execute_result"
    }
   ],
   "source": [
    "model.get_best_score()"
   ]
  },
  {
   "cell_type": "code",
   "execution_count": 13,
   "id": "d67e25a4",
   "metadata": {},
   "outputs": [],
   "source": [
    "model.save_model('./models/cbClassifier.cbm')"
   ]
  }
 ],
 "metadata": {
  "kernelspec": {
   "display_name": ".venv",
   "language": "python",
   "name": "python3"
  },
  "language_info": {
   "codemirror_mode": {
    "name": "ipython",
    "version": 3
   },
   "file_extension": ".py",
   "mimetype": "text/x-python",
   "name": "python",
   "nbconvert_exporter": "python",
   "pygments_lexer": "ipython3",
   "version": "3.12.3"
  }
 },
 "nbformat": 4,
 "nbformat_minor": 5
}
